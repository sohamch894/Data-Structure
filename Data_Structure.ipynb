{
  "nbformat": 4,
  "nbformat_minor": 0,
  "metadata": {
    "colab": {
      "provenance": []
    },
    "kernelspec": {
      "name": "python3",
      "display_name": "Python 3"
    },
    "language_info": {
      "name": "python"
    }
  },
  "cells": [
    {
      "cell_type": "markdown",
      "source": [
        "#Data Structure\n"
      ],
      "metadata": {
        "id": "o-fvbnFgSPjw"
      }
    },
    {
      "cell_type": "markdown",
      "source": [
        "1.**What are data structures, and why are they important?**\n",
        "\n",
        "-> Data structures are organized ways to store, manage, and access data efficiently, like arrays, linked lists, and trees. They are important because they optimize operations such as searching, sorting, and modifying data. Choosing the right data structure improves performance and resource usage in software applications.\n",
        "\n",
        "2.**Explain the difference between mutable and immutable data types with examples?**\n",
        "\n",
        "->**Mutable Data Types**:\n",
        "Mutable data types can be modified after creation.\n",
        "\n",
        "example:\n",
        "In Python, lists are mutable:\n",
        "\n",
        "my_list = [1, 2, 3]\n",
        "\n",
        "my_list[1] = 5  # Modifies the second element\n",
        "\n",
        "print(my_list)  # Output: [1, 5, 3]\n",
        "\n",
        "**Immutable Data Types**:\n",
        "Immutable data types cannot be changed once created.\n",
        "\n",
        " example:\n",
        "In Python, tuples are immutable:\n",
        "\n",
        "my_tuple = (1, 2, 3)\n",
        "\n",
        "\n",
        "my_tuple[1] = 5  # Raises an error: TypeError\n",
        "\n",
        "\n",
        "print(my_tuple)  # Output: (1, 2, 3)\n",
        "\n",
        "\n",
        "**3.What are the main differences between lists and tuples in Python?**\n",
        "\n",
        "->The main differences between lists and tuples in Python are:\n",
        "\n",
        "**Mutability**: Lists are mutable, meaning their elements can be changed, while tuples are immutable and cannot be modified once created.\n",
        "\n",
        "**Syntax**: Lists are defined using square brackets [ ], while tuples use parentheses ( ).\n",
        "\n",
        "**Performance**: Tuples are faster than lists due to their immutability and fixed size.\n",
        "\n",
        "**Use Cases**: Use lists when you need to modify data frequently, and tuples for storing constant or read-only data.\n",
        "\n",
        "**4.Describe how dictionaries store data.**\n",
        "\n",
        "->Dictionaries in Python store data as key-value pairs using curly braces { }. They use a hashing mechanism to map keys (unique and immutable) to memory locations for fast access. This allows efficient operations like insertion, deletion, and lookup with average **O(1)** complexity.\n",
        "\n",
        "\n",
        "**5.Why might you use a set instead of a list in Python?**\n",
        "\n",
        "->A set is used instead of a list when user need to store unique elements and perform fast operations like membership checks or removing duplicates. Sets are unordered and optimized for these tasks due to their hashing mechanism. This makes them ideal for cases where order doesn’t matter.\n",
        "\n",
        "**6.What is a string in Python, and how is it different from a list?**\n",
        "\n",
        "->in Python, a string is a sequence of characters enclosed in either single (' ') or double (\" \") quotes. Strings are used to represent textual data. Strings are immutable data types, meaning once a string is created, its content cannot be changed. You can, however, create a new string based on modifications to the original.\n",
        "\n",
        "**Characteristics of Strings:**\n",
        "\n",
        "**Immutable:** Once created, the contents of a string cannot be changed.\n",
        "\n",
        "**Indexable:** Each character in a string has an index, starting from 0.\n",
        "\n",
        "**Iterable:** You can iterate over a string, character by character.\n",
        "\n",
        "**Supports many methods:** You can perform operations like concatenation, slicing, formatting, and searching on strings.\n",
        "\n",
        "**Characteristics of Lists:**\n",
        "\n",
        "**Mutable:** You can change, add, or remove elements in a list.\n",
        "\n",
        "**Indexable:** Each element in a list has an index, starting from 0.\n",
        "\n",
        "**Iterable:** You can iterate over a list, element by element. Supports various methods: Lists support operations like appending, removing elements, sorting, etc.\n",
        "\n",
        "**7.How do tuples ensure data integrity in Python?**\n",
        "\n",
        "\n",
        "->In Python, tuples are immutable data structures, which means that once a tuple is created, its contents cannot be modified, added, or removed. This immutability plays a significant role in ensuring data integrity, as it guarantees that the data inside a tuple remains consistent throughout its lifetime. Here's how tuples contribute to data integrity:\n",
        "\n",
        "Preventing Accidental Modifications\n",
        "\n",
        "Since tuples are immutable, the elements within them cannot be accidentally altered. If any operation tries to modify the contents of a tuple, Python will raise a TypeError, preventing any unintended changes.\n",
        "\n",
        "Ensuring Consistency in Multi-threaded Environments\n",
        "\n",
        "Because tuples are immutable, they provide a guarantee of thread safety in multi-threaded programs. When multiple threads access a tuple, there's no risk of one thread modifying the data while another thread is reading it, thus preventing inconsistencies.\n",
        "\n",
        "Protecting the Data from Corruption\n",
        "\n",
        "Since a tuple cannot be altered after creation, it is immune to accidental data corruption. If you pass a tuple to a function or share it between parts of a program, you can be confident that the data it holds will not change unexpectedly.\n",
        "\n",
        "Example:\n",
        "\n",
        "Use in Hashable Data Structures Tuples can be used as keys in dictionaries or elements in sets because they are hashable. In contrast, lists (which are mutable) cannot be used as dictionary keys or set elements. The immutability of tuples ensures that their hash value remains constant, allowing them to be reliably used as keys in hash-based data structures.\n",
        "\n",
        "**8.What is a hash table, and how does it relate to dictionaries in Python?**\n",
        "\n",
        "\n",
        "->A hash table (also known as a hash map) is a data structure that stores key-value pairs in a way that allows for efficient access, insertion, and deletion of elements. The main concept behind a hash table is the use of a hash function to map keys to indices in an internal array (or \"bucket\"). This allows for constant-time complexity on average for lookup, insertion, and deletion operations.\n",
        "Hashing Keys in Python Dictionaries When you use a key in a Python dictionary, it is passed through a hash function to generate a unique hash value. This hash value determines where the corresponding value will be stored in an internal array or bucket. The process of hashing helps Python quickly locate the value associated with a given key.\n",
        "\n",
        "How Python Uses Hash Tables for Fast Lookup Python uses hash tables to achieve fast lookups. Once a key is hashed, Python can access the value in constant time, O(1), on average. This makes dictionary lookups very efficient, even with large datasets.\n",
        "\n",
        "\n",
        "**9.Can lists contain different data types in Python?**\n",
        "\n",
        "\n",
        "->Yes, lists in Python can contain different data types. Python lists are heterogeneous, meaning they can store a collection of items that are of different types. You can store integers, strings, floating-point numbers, lists, dictionaries, and even objects of custom classes all in the same list.\n",
        "\n",
        "**10.Explain why strings are immutable in Python?**\n",
        "\n",
        "->Strings are immutable in Python because once created, their content cannot be changed. This design ensures that strings are hashable, allowing them to be used as dictionary keys. Immutable objects also improve performance and memory efficiency since their data is stored in a fixed location. Any modification to a string creates a new string rather than altering the original.\n",
        "\n",
        "**11.What advantages do dictionaries offer over lists for certain tasks?**\n",
        "\n",
        "->Dictionaries offer several advantages over lists for certain tasks:\n",
        "\n",
        "1. **Faster Lookups**: Dictionaries use hash tables, allowing for average O(1) time complexity for lookups, while lists require O(n) time to search for an element.\n",
        "2. **Key-Value Pair Storage**: Dictionaries store data as key-value pairs, which makes it easier to associate related data, unlike lists that only store values.\n",
        "3. **Efficient Data Retrieval**: Retrieving data using keys in a dictionary is more efficient, especially when you need to access values based on unique identifiers.\n",
        "\n",
        "**12.Describe a scenario where using a tuple would be preferable over a list?**\n",
        "\n",
        "->Using a tuple over a list would be preferable in scenarios where immutability, data integrity, and performance are important.\n",
        "\n",
        "1.**Immutability (Data Integrity):**\n",
        "\n",
        "Once the coordinates are set, they shouldn’t be modified accidentally or intentionally during the execution of the program. Since tuples are immutable, they ensure that the values cannot be changed, which guarantees the integrity of the data. If you used a list, there is a risk that someone might accidentally modify the coordinates (for example, mistakenly setting a new latitude or longitude).\n",
        "\n",
        "2.**Performance:**\n",
        "\n",
        "Tuples are typically faster than lists for iteration and access because they are immutable. The Python interpreter can optimize their memory usage and performance. If you only need to access the coordinates without modifying them, a tuple would provide a slight performance boost.\n",
        "\n",
        "**13.How do sets handle duplicate values in Python?**\n",
        "\n",
        "\n",
        "->In Python, sets are designed to automatically remove duplicate values. A set is a collection of unique elements, meaning that when you try to add a duplicate item, it will be ignored, and the set will not contain any repeated elements.\n",
        "\n",
        "**14.How does the “in” keyword work differently for lists and dictionaries?**\n",
        "\n",
        "->The in keyword in Python is used to check if an element exists in a collection, but its behavior differs when applied to lists and dictionaries due to their underlying structures.\n",
        "\n",
        "a.Using in with Lists When the in keyword is used with a list, it checks if the value exists in the list. It searches through all the elements in the list to see if it finds a match.\n",
        "\n",
        "Time Complexity: The time complexity for checking membership in a list is O(n), where n is the number of elements in the list because Python has to iterate through each element one by one to check if the value is present.\n",
        "\n",
        "b.Using in with Dictionaries When the in keyword is used with a dictionary, it checks if the key exists in the dictionary, not the value. By default, Python will look for the key in the dictionary's keys.\n",
        "\n",
        "Time Complexity: The time complexity for checking membership in a dictionary is O(1) (average case), since dictionaries are implemented as hash tables, which allow fast lookups by key.\n",
        "\n",
        "**15.Can you modify the elements of a tuple? Explain why or why not.**\n",
        "\n",
        "->No, you cannot modify the elements of a tuple because tuples are **immutable** in Python. Once a tuple is created, its contents cannot be changed, added, or removed. This immutability ensures that the tuple’s data is fixed and prevents accidental modification, making it useful for ensuring data integrity. If you need to change its elements, you would need to create a new tuple.\n",
        "\n",
        "**16. What is a nested dictionary, and give an example of its use case?**\n",
        "\n",
        "->A nested dictionary in Python is a dictionary where the value of one or more keys is itself another dictionary. This allows you to represent more complex data structures where each dictionary can contain sub-dictionaries, which in turn can contain further dictionaries, and so on.\n",
        "\n",
        "Example of a Nested Dictionary: Let's say we are managing a school's database, and we want to store information about multiple students. Each student has a name, age, and a list of grades, and each grade can be associated with a specific subject. This scenario is a great use case for a nested dictionary.\n",
        "\n",
        "**17. Describe the time complexity of accessing elements in a dictionary**\n",
        "\n",
        "->In Python, dictionaries are implemented using hash tables, which allow for efficient data retrieval. The time complexity for accessing elements in a dictionary depends on the operation you are performing, but generally, dictionary lookups are very fast.\n",
        "\n",
        "Time Complexity of Accessing Elements in a Dictionary\n",
        "\n",
        "a.Average Case (O(1)):\n",
        "\n",
        "Accessing a value by key: In the average case, accessing a value using a key in a dictionary is done in constant time, O(1). This is because dictionaries use hashing to quickly compute the hash value of the key and directly locate the corresponding value in memory. This allows for fast access, regardless of the size of the dictionary.\n",
        "\n",
        "b.Worst Case (O(n)):\n",
        "\n",
        "In rare cases, the time complexity can degrade to O(n), where n is the number of items in the dictionary. This happens in situations where there are hash collisions (i.e., multiple keys are hashed to the same location in the hash table). If a large number of keys end up in the same bucket, the dictionary may need to perform a search through the elements in that bucket to find the correct one. However, this is very unlikely in practice due to Python’s efficient hashing algorithm, and hash tables are generally designed to handle collisions well, keeping the worst-case performance rare.\n",
        "\n",
        "**18.In what situations are lists preferred over dictionaries?**\n",
        "\n",
        "->Lists are preferred over dictionaries in the following situations:\n",
        "\n",
        "When the Data is Ordered:\n",
        "\n",
        "Lists maintain the order of elements, which is important when you need to preserve the sequence of data. If you need to access elements in the order they were added, lists are the better choice. Example: A list of dates, tasks, or events where the order is important.\n",
        "\n",
        "When You Need to Access Elements by Index:\n",
        "\n",
        "Lists provide indexed access, meaning you can retrieve elements directly by their position (index) in the list. This is useful when you need to work with data in a specific order or sequence. Example: Accessing an element at a specific position, like the first or last item in a list\n",
        "\n",
        "**19.Why are dictionaries considered unordered, and how does that affect data retrieval?**\n",
        "\n",
        "->Dictionaries in Python are considered unordered because they store key-value pairs without maintaining a specific order. This means the order in which items are inserted is not guaranteed. However, data retrieval remains efficient since dictionaries use hash tables, allowing for average O(1) time complexity for lookups, regardless of the order.\n",
        "\n",
        "**20.Explain the difference between a list and a dictionary in terms of data retrieval?**\n",
        "\n",
        "->The primary difference between a list and a dictionary in terms of data retrieval lies in how you access elements and the structure of the data.\n",
        "\n",
        "Accessing Elements by Index (List):\n",
        "\n",
        "Lists are ordered collections of elements, and each element is assigned a numerical index starting from 0.\n",
        "\n",
        "To retrieve an element in a list, you use its index. The list allows indexed access to elements, which makes it efficient to get a value if you know its position.\n",
        "\n",
        "Time Complexity: Accessing an element by index in a list is O(1), or constant time, because the index is directly mapped to a position in memory.\n",
        "\n",
        "Accessing Elements by Key (Dictionary):\n",
        "\n",
        "Dictionaries are unordered collections of key-value pairs. Instead of accessing values by their position (index), you retrieve a value by using its unique key.\n",
        "\n",
        "Each key in a dictionary must be unique, and you use the key to access its corresponding value.\n"
      ],
      "metadata": {
        "id": "eRBmeqp-So28"
      }
    },
    {
      "cell_type": "code",
      "execution_count": 1,
      "metadata": {
        "colab": {
          "base_uri": "https://localhost:8080/"
        },
        "id": "5MUzHldISKS1",
        "outputId": "87e368bc-9bf5-47e4-dc41-fe3fff2daccd"
      },
      "outputs": [
        {
          "output_type": "stream",
          "name": "stdout",
          "text": [
            "my name is{name}\n"
          ]
        }
      ],
      "source": [
        "#1.Write a code to create a string with your name and print it\n",
        "name=\"soham Chakraborty\"\n",
        "print(\"my name is{name}\")"
      ]
    },
    {
      "cell_type": "code",
      "source": [
        "#2.Write a code to find the length of the string\"Hello World\"\n",
        "string=\"hello world\"\n",
        "print(len(string))"
      ],
      "metadata": {
        "colab": {
          "base_uri": "https://localhost:8080/"
        },
        "id": "0EjQ4nAJZ69x",
        "outputId": "4cf3970d-1964-406c-b93e-1c9d96d134f6"
      },
      "execution_count": 3,
      "outputs": [
        {
          "output_type": "stream",
          "name": "stdout",
          "text": [
            "11\n"
          ]
        }
      ]
    },
    {
      "cell_type": "code",
      "source": [
        "#3.Write a code to slice the first 3 characters from the string \"Python Programming\".\n",
        "string=\"python programing\"\n",
        "print(string[0:3 ])"
      ],
      "metadata": {
        "colab": {
          "base_uri": "https://localhost:8080/"
        },
        "id": "DBsH2SOBaZN6",
        "outputId": "cee1ba36-9a3d-4efe-b1b9-e59eb0710556"
      },
      "execution_count": 5,
      "outputs": [
        {
          "output_type": "stream",
          "name": "stdout",
          "text": [
            "pyt\n"
          ]
        }
      ]
    },
    {
      "cell_type": "code",
      "source": [
        "#4.Write a code to convert the string \"hello\" to uppercase.\n",
        "string=\"hello\"\n",
        "print(string.upper())"
      ],
      "metadata": {
        "colab": {
          "base_uri": "https://localhost:8080/"
        },
        "id": "zprlRCHKa2u4",
        "outputId": "b031d136-2db2-4a66-996c-5981ab4938c5"
      },
      "execution_count": 8,
      "outputs": [
        {
          "output_type": "stream",
          "name": "stdout",
          "text": [
            "HELLO\n"
          ]
        }
      ]
    },
    {
      "cell_type": "code",
      "source": [
        "#5.Write a code to replace the word \"apple\" with \"orange\" in the string \"I like apple\"\n",
        "string=\"apple\"\n",
        "print(string)\n",
        "b=string.replace(\"apple\",\"orange\")\n",
        "print(b)"
      ],
      "metadata": {
        "colab": {
          "base_uri": "https://localhost:8080/"
        },
        "id": "GbqiaWdFbhBL",
        "outputId": "4e7caa72-e648-43e5-9686-b24e4b66d84e"
      },
      "execution_count": 10,
      "outputs": [
        {
          "output_type": "stream",
          "name": "stdout",
          "text": [
            "apple\n",
            "orange\n"
          ]
        }
      ]
    },
    {
      "cell_type": "code",
      "source": [
        "#6.Write a code to create a list with numbers 1 to 5 and print it.\n",
        "the_list=[1,2,3,4,5]\n",
        "print(the_list)"
      ],
      "metadata": {
        "colab": {
          "base_uri": "https://localhost:8080/"
        },
        "id": "l68Z7Y08b4D-",
        "outputId": "3e726bbb-c5a6-48ff-edb0-006bd8b3ccac"
      },
      "execution_count": 11,
      "outputs": [
        {
          "output_type": "stream",
          "name": "stdout",
          "text": [
            "[1, 2, 3, 4, 5]\n"
          ]
        }
      ]
    },
    {
      "cell_type": "code",
      "source": [
        "#7.Write a code to append the number 10 to the list [1, 2, 3, 4].\n",
        "myon_list=[1,2,3,4]\n",
        "myon_list.append(10)\n",
        "print(myon_list)\n",
        "print(type(myon_list))"
      ],
      "metadata": {
        "colab": {
          "base_uri": "https://localhost:8080/"
        },
        "id": "yx8cdgtMcYQo",
        "outputId": "63b32c40-5507-455e-e9c9-c36bbc537cb5"
      },
      "execution_count": 12,
      "outputs": [
        {
          "output_type": "stream",
          "name": "stdout",
          "text": [
            "[1, 2, 3, 4, 10]\n",
            "<class 'list'>\n"
          ]
        }
      ]
    },
    {
      "cell_type": "code",
      "source": [
        "#8.Write a code to remove the number 3 from the list [1, 2, 3, 4, 5]\n",
        "myon_list=[1,2,3,4,5]\n",
        "print(\"original list\")\n",
        "print(myon_list)\n",
        "myon_list.remove(3)\n",
        "print(\"after remove 3\")\n",
        "print(myon_list)"
      ],
      "metadata": {
        "colab": {
          "base_uri": "https://localhost:8080/"
        },
        "id": "GAE2ZrOtcq22",
        "outputId": "ce0efa93-692d-4f06-c563-7f1f37112f36"
      },
      "execution_count": 17,
      "outputs": [
        {
          "output_type": "stream",
          "name": "stdout",
          "text": [
            "original list\n",
            "[1, 2, 3, 4, 5]\n",
            "after remove 3\n",
            "[1, 2, 4, 5]\n"
          ]
        }
      ]
    },
    {
      "cell_type": "code",
      "source": [
        "#9.Write a code to access the second element in the list ['a', 'b', 'c', 'd']\n",
        "myon_list=['a','b','c','d']\n",
        "print(myon_list[1])"
      ],
      "metadata": {
        "colab": {
          "base_uri": "https://localhost:8080/"
        },
        "id": "9cnYE7DLdbS_",
        "outputId": "f0ae10ef-9cce-42ee-aa88-48196ef6e1c3"
      },
      "execution_count": 14,
      "outputs": [
        {
          "output_type": "stream",
          "name": "stdout",
          "text": [
            "b\n"
          ]
        }
      ]
    },
    {
      "cell_type": "code",
      "source": [
        "#10.Write a code to reverse the list [10, 20, 30, 40, 50].\n",
        "myon_list=[10,20,30,40,50]\n",
        "print(\"original list\")\n",
        "print(myon_list)\n",
        "print(\"reverse list\")\n",
        "myon_list.reverse()\n",
        "print(myon_list)"
      ],
      "metadata": {
        "colab": {
          "base_uri": "https://localhost:8080/"
        },
        "id": "9pGFxFQweEAf",
        "outputId": "30348826-d362-4c6c-fac6-592213e231b5"
      },
      "execution_count": 18,
      "outputs": [
        {
          "output_type": "stream",
          "name": "stdout",
          "text": [
            "original list\n",
            "[10, 20, 30, 40, 50]\n",
            "reverse list\n",
            "[50, 40, 30, 20, 10]\n"
          ]
        }
      ]
    },
    {
      "cell_type": "code",
      "source": [
        "#11.Write a code to create a tuple with the elements 10, 20, 30 and print it.\n",
        "ab=(10,20,30,40)\n",
        "print(ab)"
      ],
      "metadata": {
        "colab": {
          "base_uri": "https://localhost:8080/"
        },
        "id": "IrNWcm8zed7G",
        "outputId": "d622515c-4572-458d-8717-e5efb6a8d2ba"
      },
      "execution_count": 19,
      "outputs": [
        {
          "output_type": "stream",
          "name": "stdout",
          "text": [
            "(10, 20, 30, 40)\n"
          ]
        }
      ]
    },
    {
      "cell_type": "code",
      "source": [
        "#12.Write a code to access the first element of the tuple ('apple', 'banana', 'cherry').\n",
        "ab=('apple','banana','cherry')\n",
        "print(ab[0])"
      ],
      "metadata": {
        "colab": {
          "base_uri": "https://localhost:8080/"
        },
        "id": "ZKw0YV1Je0IK",
        "outputId": "d37f0d1e-a346-453a-e75e-3c7b0c01ee48"
      },
      "execution_count": 24,
      "outputs": [
        {
          "output_type": "stream",
          "name": "stdout",
          "text": [
            "apple\n"
          ]
        }
      ]
    },
    {
      "cell_type": "code",
      "source": [
        "#13.Write a code to count how many times the number 2 appears in the tuple (1, 2, 3, 2, 4, 2).\n",
        "ab=(1,2,3,2,4,2)\n",
        "print(ab.count(2))"
      ],
      "metadata": {
        "colab": {
          "base_uri": "https://localhost:8080/"
        },
        "id": "Yp4iepJxfsWW",
        "outputId": "0f7e2153-d57b-47b8-d972-3bbb92ee5b94"
      },
      "execution_count": 25,
      "outputs": [
        {
          "output_type": "stream",
          "name": "stdout",
          "text": [
            "3\n"
          ]
        }
      ]
    },
    {
      "cell_type": "code",
      "source": [
        "#14.Write a code to find the index of the element \\\"cat\\\" in the tuple ('dog', 'cat', 'rabbit')\n",
        "ab=('dog','cat','rabbit')\n",
        "print(ab.index('cat'))"
      ],
      "metadata": {
        "colab": {
          "base_uri": "https://localhost:8080/"
        },
        "id": "B0PFOhsZf876",
        "outputId": "ef601567-c3e3-42ff-e4b9-31e0edab0239"
      },
      "execution_count": 26,
      "outputs": [
        {
          "output_type": "stream",
          "name": "stdout",
          "text": [
            "1\n"
          ]
        }
      ]
    },
    {
      "cell_type": "code",
      "source": [
        "#15.Write a code to check if the element \"banana\" is in the tuple ('apple', 'orange', 'banana').\n",
        "ab=('apple','orange','banana')\n",
        "print(\"banana\"in ab)"
      ],
      "metadata": {
        "colab": {
          "base_uri": "https://localhost:8080/"
        },
        "id": "cLTKMjifgmt8",
        "outputId": "eb8adee7-89e1-4d86-9444-016b70c78c67"
      },
      "execution_count": 27,
      "outputs": [
        {
          "output_type": "stream",
          "name": "stdout",
          "text": [
            "True\n"
          ]
        }
      ]
    },
    {
      "cell_type": "code",
      "source": [
        "#16.Write a code to create a set with the elements 1, 2, 3, 4, 5 and print it.\n",
        "ab={1,2,3,4,5}\n",
        "print(ab)"
      ],
      "metadata": {
        "colab": {
          "base_uri": "https://localhost:8080/"
        },
        "id": "3xbo8Ga4g-WF",
        "outputId": "4e42023e-ddf0-4eb9-c7a4-3373bc39f3bf"
      },
      "execution_count": 28,
      "outputs": [
        {
          "output_type": "stream",
          "name": "stdout",
          "text": [
            "{1, 2, 3, 4, 5}\n"
          ]
        }
      ]
    },
    {
      "cell_type": "code",
      "source": [
        "#17.Write a code to add the element 6 to the set {1, 2, 3, 4}.\n",
        "ab={1,2,3,4}\n",
        "print(ab)\n",
        "ab.add(6)\n",
        "print(ab)"
      ],
      "metadata": {
        "colab": {
          "base_uri": "https://localhost:8080/"
        },
        "id": "Of4if46khTJt",
        "outputId": "c6b5e68c-6291-4bca-ba32-864f957ef3bf"
      },
      "execution_count": 29,
      "outputs": [
        {
          "output_type": "stream",
          "name": "stdout",
          "text": [
            "{1, 2, 3, 4}\n",
            "{1, 2, 3, 4, 6}\n"
          ]
        }
      ]
    },
    {
      "cell_type": "code",
      "source": [
        "#18.Write a code to create a tuple with the elements 10, 20, 30 and print it.\n",
        "ab=(10,20,30)\n",
        "print(ab)"
      ],
      "metadata": {
        "colab": {
          "base_uri": "https://localhost:8080/"
        },
        "id": "aDPqTTIHhewU",
        "outputId": "bcceaca8-2f11-47d1-8597-cf940fe188f0"
      },
      "execution_count": 30,
      "outputs": [
        {
          "output_type": "stream",
          "name": "stdout",
          "text": [
            "(10, 20, 30)\n"
          ]
        }
      ]
    },
    {
      "cell_type": "code",
      "source": [
        "#19.Write a code to access the first element of the tuple ('apple', 'banana', 'cherry')\n",
        "ab=('apple','banana','cherry')\n",
        "print(ab[0])"
      ],
      "metadata": {
        "colab": {
          "base_uri": "https://localhost:8080/"
        },
        "id": "nDp9KvVXiyjc",
        "outputId": "74e66971-29e7-4df4-db2e-11992b1e0c67"
      },
      "execution_count": 31,
      "outputs": [
        {
          "output_type": "stream",
          "name": "stdout",
          "text": [
            "apple\n"
          ]
        }
      ]
    },
    {
      "cell_type": "code",
      "source": [
        "#20.Write a code to count how many times the number 2 appears in the tuple (1, 2, 3, 2, 4, 2).\n",
        "ab=(1,2,3,2,4,2)\n",
        "print(ab.count(2))"
      ],
      "metadata": {
        "colab": {
          "base_uri": "https://localhost:8080/"
        },
        "id": "P8lnQmzMi122",
        "outputId": "10f18aa7-fd02-45e6-b356-67a342bc285e"
      },
      "execution_count": 32,
      "outputs": [
        {
          "output_type": "stream",
          "name": "stdout",
          "text": [
            "3\n"
          ]
        }
      ]
    },
    {
      "cell_type": "code",
      "source": [
        "# 21.Write a code to find the index of the element \"cat\" in the tuple ('dog',\n",
        "# 'cat', 'rabbit').\n",
        "ab=('dog','cat','rabbit')\n",
        "print(ab.index('cat'))"
      ],
      "metadata": {
        "colab": {
          "base_uri": "https://localhost:8080/"
        },
        "id": "pGtFS5xEi49u",
        "outputId": "7efb304b-a27d-4f96-d243-1c22ed7c707c"
      },
      "execution_count": 41,
      "outputs": [
        {
          "output_type": "stream",
          "name": "stdout",
          "text": [
            "1\n"
          ]
        }
      ]
    },
    {
      "cell_type": "code",
      "source": [
        "#22.Write a code to check if the element \\\"banana\\\" is in the tuple ('apple', 'orange', 'banana').\n",
        "ab=('apple','orange','banana')\n",
        "print(\"banana\" in ab)"
      ],
      "metadata": {
        "colab": {
          "base_uri": "https://localhost:8080/"
        },
        "id": "yL_L8kovi7fA",
        "outputId": "58123bf6-e0d1-44f7-bc94-7f3dd0d401a5"
      },
      "execution_count": 34,
      "outputs": [
        {
          "output_type": "stream",
          "name": "stdout",
          "text": [
            "True\n"
          ]
        }
      ]
    },
    {
      "cell_type": "code",
      "source": [
        "#23.Write a code to create a set with the elements 1, 2, 3, 4, 5 and print it.\n",
        "ab={1,2,3,4,5}\n",
        "print(ab)"
      ],
      "metadata": {
        "colab": {
          "base_uri": "https://localhost:8080/"
        },
        "id": "CmhrJc8si-Cu",
        "outputId": "345a3b91-50cc-4993-c1d3-f7d2d1cc65a7"
      },
      "execution_count": 35,
      "outputs": [
        {
          "output_type": "stream",
          "name": "stdout",
          "text": [
            "{1, 2, 3, 4, 5}\n"
          ]
        }
      ]
    },
    {
      "cell_type": "code",
      "source": [
        "#24.Write a code to add the element 6 to the set {1, 2, 3, 4}.\n",
        "ab={1,2,3,4}\n",
        "print(ab)\n",
        "ab.add(6)\n",
        "print(ab)"
      ],
      "metadata": {
        "colab": {
          "base_uri": "https://localhost:8080/"
        },
        "id": "BCVkWtQsjAJV",
        "outputId": "096d9e3e-3d80-48de-ac3e-75d20ead7af5"
      },
      "execution_count": 36,
      "outputs": [
        {
          "output_type": "stream",
          "name": "stdout",
          "text": [
            "{1, 2, 3, 4}\n",
            "{1, 2, 3, 4, 6}\n"
          ]
        }
      ]
    }
  ]
}